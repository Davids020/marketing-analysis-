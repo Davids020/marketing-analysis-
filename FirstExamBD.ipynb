{
 "cells": [
  {
   "cell_type": "code",
   "execution_count": null,
   "id": "1091a738",
   "metadata": {},
   "outputs": [],
   "source": []
  },
  {
   "cell_type": "code",
   "execution_count": 1,
   "id": "8c0e931a",
   "metadata": {},
   "outputs": [],
   "source": [
    "import io\n",
    "import sys\n",
    "import numpy as np\n",
    "import pandas as pd\n",
    "import seaborn as sns \n",
    "import matplotlib.pyplot as plt \n",
    "import os\n",
    "import time\n",
    "import random\n",
    "from tqdm import tqdm\n",
    "from sys import getsizeof\n",
    "from sklearn.feature_extraction.text import CountVectorizer"
   ]
  },
  {
   "cell_type": "code",
   "execution_count": 3,
   "id": "72779d11",
   "metadata": {},
   "outputs": [
    {
     "name": "stdout",
     "output_type": "stream",
     "text": [
      "*** Merging multiple csv files into a single pandas dataframe ***\n",
      "                            product_name        mrp      price  \\\n",
      "0       Aerie Everyday Loves Lace Cheeky  12.50 USD  12.50 USD   \n",
      "1       Aerie Everyday Loves Lace Cheeky  12.50 USD  12.50 USD   \n",
      "2       Aerie Everyday Loves Lace Cheeky  12.50 USD  12.50 USD   \n",
      "3       Aerie Everyday Loves Lace Cheeky  12.50 USD  12.50 USD   \n",
      "4       Aerie Everyday Loves Lace Cheeky  12.50 USD  12.50 USD   \n",
      "...                                  ...        ...        ...   \n",
      "613138  Dream Angels NEW! Lace Mini Slip    $48.00     $48.00    \n",
      "613139  Dream Angels NEW! Lace Mini Slip    $48.00     $48.00    \n",
      "613140  Dream Angels NEW! Lace Mini Slip    $48.00     $48.00    \n",
      "613141  Dream Angels NEW! Lace Mini Slip    $48.00     $48.00    \n",
      "613142  Dream Angels NEW! Lace Mini Slip    $48.00     $48.00    \n",
      "\n",
      "                                                  pdp_url         brand_name  \\\n",
      "0       https://www.ae.com/aerie-everyday-loves-lace-c...              AERIE   \n",
      "1       https://www.ae.com/aerie-everyday-loves-lace-c...              AERIE   \n",
      "2       https://www.ae.com/aerie-everyday-loves-lace-c...              AERIE   \n",
      "3       https://www.ae.com/aerie-everyday-loves-lace-c...              AERIE   \n",
      "4       https://www.ae.com/aerie-everyday-loves-lace-c...              AERIE   \n",
      "...                                                   ...                ...   \n",
      "613138  https://www.victoriassecret.com/lingerie/shop-...  Victoria's Secret   \n",
      "613139  https://www.victoriassecret.com/lingerie/shop-...  Victoria's Secret   \n",
      "613140  https://www.victoriassecret.com/lingerie/shop-...  Victoria's Secret   \n",
      "613141  https://www.victoriassecret.com/lingerie/shop-...  Victoria's Secret   \n",
      "613142  https://www.victoriassecret.com/lingerie/shop-...  Victoria's Secret   \n",
      "\n",
      "       product_category            retailer  \\\n",
      "0              Cheekies               Ae US   \n",
      "1              Cheekies               Ae US   \n",
      "2              Cheekies               Ae US   \n",
      "3              Cheekies               Ae US   \n",
      "4              Cheekies               Ae US   \n",
      "...                 ...                 ...   \n",
      "613138   Lace Mini Slip  Victoriassecret US   \n",
      "613139   Lace Mini Slip  Victoriassecret US   \n",
      "613140   Lace Mini Slip  Victoriassecret US   \n",
      "613141   Lace Mini Slip  Victoriassecret US   \n",
      "613142   Lace Mini Slip  Victoriassecret US   \n",
      "\n",
      "                                              description  rating  \\\n",
      "0       Introducing Everyday Loves™: Made with love. E...     5.0   \n",
      "1       Introducing Everyday Loves™: Made with love. E...     5.0   \n",
      "2       Introducing Everyday Loves™: Made with love. E...     5.0   \n",
      "3       Introducing Everyday Loves™: Made with love. E...     5.0   \n",
      "4       Introducing Everyday Loves™: Made with love. E...     5.0   \n",
      "...                                                   ...     ...   \n",
      "613138  All you need is a little lace, here in the cut...     NaN   \n",
      "613139  All you need is a little lace, here in the cut...     NaN   \n",
      "613140  All you need is a little lace, here in the cut...     NaN   \n",
      "613141  All you need is a little lace, here in the cut...     NaN   \n",
      "613142  All you need is a little lace, here in the cut...     NaN   \n",
      "\n",
      "        review_count                                   style_attributes  \\\n",
      "0                8.0  [\"Soft lace with the right amount of stretch\",...   \n",
      "1                8.0  [\"Soft lace with the right amount of stretch\",...   \n",
      "2                8.0  [\"Soft lace with the right amount of stretch\",...   \n",
      "3                8.0  [\"Soft lace with the right amount of stretch\",...   \n",
      "4                8.0  [\"Soft lace with the right amount of stretch\",...   \n",
      "...              ...                                                ...   \n",
      "613138           NaN                                                NaN   \n",
      "613139           NaN                                                NaN   \n",
      "613140           NaN                                                NaN   \n",
      "613141           NaN                                                NaN   \n",
      "613142           NaN                                                NaN   \n",
      "\n",
      "                               total_sizes  \\\n",
      "0       [\"XS\", \"S\", \"M\", \"L\", \"XL\", \"XXL\"]   \n",
      "1       [\"XS\", \"S\", \"M\", \"L\", \"XL\", \"XXL\"]   \n",
      "2       [\"XS\", \"S\", \"M\", \"L\", \"XL\", \"XXL\"]   \n",
      "3       [\"XS\", \"S\", \"M\", \"L\", \"XL\", \"XXL\"]   \n",
      "4       [\"XS\", \"S\", \"M\", \"L\", \"XL\", \"XXL\"]   \n",
      "...                                    ...   \n",
      "613138         [\"XS\", \"S\", \"M\", \"L\", \"XL\"]   \n",
      "613139         [\"XS\", \"S\", \"M\", \"L\", \"XL\"]   \n",
      "613140         [\"XS\", \"S\", \"M\", \"L\", \"XL\"]   \n",
      "613141         [\"XS\", \"S\", \"M\", \"L\", \"XL\"]   \n",
      "613142         [\"XS\", \"S\", \"M\", \"L\", \"XL\"]   \n",
      "\n",
      "                            available_size          color  \n",
      "0       [\"XS\", \"S\", \"M\", \"L\", \"XL\", \"XXL\"]   Rugged Green  \n",
      "1       [\"XS\", \"S\", \"M\", \"L\", \"XL\", \"XXL\"]   Natural Nude  \n",
      "2       [\"XS\", \"S\", \"M\", \"L\", \"XL\", \"XXL\"]     True Black  \n",
      "3       [\"XS\", \"S\", \"M\", \"L\", \"XL\", \"XXL\"]          White  \n",
      "4       [\"XS\", \"S\", \"M\", \"L\", \"XL\", \"XXL\"]     Royal Navy  \n",
      "...                                    ...            ...  \n",
      "613138                                   L  coconut white  \n",
      "613139                                   L   mulled grape  \n",
      "613140                                   M     sheer pink  \n",
      "613141                                   M  coconut white  \n",
      "613142                                   M   mulled grape  \n",
      "\n",
      "[613143 rows x 14 columns]\n"
     ]
    }
   ],
   "source": [
    "# set files path\n",
    "sales1 = 'ae_com.csv'\n",
    "sales2 = 'amazon_com.csv'\n",
    "sales3 = 'btemptd_com.csv'\n",
    "sales4 = 'calvinklein_com.csv'\n",
    "sales5 = 'hankypanky_com.csv'\n",
    "sales6 = 'macys_com.csv'\n",
    "sales7 = 'shop_nordstrom_com.csv'\n",
    "sales8 = 'us_topshop_com.csv'\n",
    "sales9 = 'victoriassecret_com.csv'\n",
    "\n",
    "\n",
    "print(\"*** Merging multiple csv files into a single pandas dataframe ***\")\n",
    "\n",
    "# merge files\n",
    "df = pd.concat(\n",
    "   map(pd.read_csv, [sales1, sales2, sales3, sales4, sales5, sales6, sales7, sales8, sales9]), ignore_index=True)\n",
    "print(df)"
   ]
  },
  {
   "cell_type": "code",
   "execution_count": 6,
   "id": "11e2a823",
   "metadata": {},
   "outputs": [
    {
     "data": {
      "text/html": [
       "<div>\n",
       "<style scoped>\n",
       "    .dataframe tbody tr th:only-of-type {\n",
       "        vertical-align: middle;\n",
       "    }\n",
       "\n",
       "    .dataframe tbody tr th {\n",
       "        vertical-align: top;\n",
       "    }\n",
       "\n",
       "    .dataframe thead th {\n",
       "        text-align: right;\n",
       "    }\n",
       "</style>\n",
       "<table border=\"1\" class=\"dataframe\">\n",
       "  <thead>\n",
       "    <tr style=\"text-align: right;\">\n",
       "      <th></th>\n",
       "      <th>product_name</th>\n",
       "      <th>mrp</th>\n",
       "      <th>price</th>\n",
       "      <th>pdp_url</th>\n",
       "      <th>brand_name</th>\n",
       "      <th>product_category</th>\n",
       "      <th>retailer</th>\n",
       "      <th>description</th>\n",
       "      <th>rating</th>\n",
       "      <th>review_count</th>\n",
       "      <th>style_attributes</th>\n",
       "      <th>total_sizes</th>\n",
       "      <th>available_size</th>\n",
       "      <th>color</th>\n",
       "    </tr>\n",
       "  </thead>\n",
       "  <tbody>\n",
       "    <tr>\n",
       "      <th>0</th>\n",
       "      <td>Aerie Everyday Loves Lace Cheeky</td>\n",
       "      <td>12.50 USD</td>\n",
       "      <td>12.50 USD</td>\n",
       "      <td>https://www.ae.com/aerie-everyday-loves-lace-c...</td>\n",
       "      <td>AERIE</td>\n",
       "      <td>Cheekies</td>\n",
       "      <td>Ae US</td>\n",
       "      <td>Introducing Everyday Loves™: Made with love. E...</td>\n",
       "      <td>5.0</td>\n",
       "      <td>8.0</td>\n",
       "      <td>[\"Soft lace with the right amount of stretch\",...</td>\n",
       "      <td>[\"XS\", \"S\", \"M\", \"L\", \"XL\", \"XXL\"]</td>\n",
       "      <td>[\"XS\", \"S\", \"M\", \"L\", \"XL\", \"XXL\"]</td>\n",
       "      <td>Rugged Green</td>\n",
       "    </tr>\n",
       "    <tr>\n",
       "      <th>1</th>\n",
       "      <td>Aerie Everyday Loves Lace Cheeky</td>\n",
       "      <td>12.50 USD</td>\n",
       "      <td>12.50 USD</td>\n",
       "      <td>https://www.ae.com/aerie-everyday-loves-lace-c...</td>\n",
       "      <td>AERIE</td>\n",
       "      <td>Cheekies</td>\n",
       "      <td>Ae US</td>\n",
       "      <td>Introducing Everyday Loves™: Made with love. E...</td>\n",
       "      <td>5.0</td>\n",
       "      <td>8.0</td>\n",
       "      <td>[\"Soft lace with the right amount of stretch\",...</td>\n",
       "      <td>[\"XS\", \"S\", \"M\", \"L\", \"XL\", \"XXL\"]</td>\n",
       "      <td>[\"XS\", \"S\", \"M\", \"L\", \"XL\", \"XXL\"]</td>\n",
       "      <td>Natural Nude</td>\n",
       "    </tr>\n",
       "    <tr>\n",
       "      <th>2</th>\n",
       "      <td>Aerie Everyday Loves Lace Cheeky</td>\n",
       "      <td>12.50 USD</td>\n",
       "      <td>12.50 USD</td>\n",
       "      <td>https://www.ae.com/aerie-everyday-loves-lace-c...</td>\n",
       "      <td>AERIE</td>\n",
       "      <td>Cheekies</td>\n",
       "      <td>Ae US</td>\n",
       "      <td>Introducing Everyday Loves™: Made with love. E...</td>\n",
       "      <td>5.0</td>\n",
       "      <td>8.0</td>\n",
       "      <td>[\"Soft lace with the right amount of stretch\",...</td>\n",
       "      <td>[\"XS\", \"S\", \"M\", \"L\", \"XL\", \"XXL\"]</td>\n",
       "      <td>[\"XS\", \"S\", \"M\", \"L\", \"XL\", \"XXL\"]</td>\n",
       "      <td>True Black</td>\n",
       "    </tr>\n",
       "    <tr>\n",
       "      <th>3</th>\n",
       "      <td>Aerie Everyday Loves Lace Cheeky</td>\n",
       "      <td>12.50 USD</td>\n",
       "      <td>12.50 USD</td>\n",
       "      <td>https://www.ae.com/aerie-everyday-loves-lace-c...</td>\n",
       "      <td>AERIE</td>\n",
       "      <td>Cheekies</td>\n",
       "      <td>Ae US</td>\n",
       "      <td>Introducing Everyday Loves™: Made with love. E...</td>\n",
       "      <td>5.0</td>\n",
       "      <td>8.0</td>\n",
       "      <td>[\"Soft lace with the right amount of stretch\",...</td>\n",
       "      <td>[\"XS\", \"S\", \"M\", \"L\", \"XL\", \"XXL\"]</td>\n",
       "      <td>[\"XS\", \"S\", \"M\", \"L\", \"XL\", \"XXL\"]</td>\n",
       "      <td>White</td>\n",
       "    </tr>\n",
       "    <tr>\n",
       "      <th>4</th>\n",
       "      <td>Aerie Everyday Loves Lace Cheeky</td>\n",
       "      <td>12.50 USD</td>\n",
       "      <td>12.50 USD</td>\n",
       "      <td>https://www.ae.com/aerie-everyday-loves-lace-c...</td>\n",
       "      <td>AERIE</td>\n",
       "      <td>Cheekies</td>\n",
       "      <td>Ae US</td>\n",
       "      <td>Introducing Everyday Loves™: Made with love. E...</td>\n",
       "      <td>5.0</td>\n",
       "      <td>8.0</td>\n",
       "      <td>[\"Soft lace with the right amount of stretch\",...</td>\n",
       "      <td>[\"XS\", \"S\", \"M\", \"L\", \"XL\", \"XXL\"]</td>\n",
       "      <td>[\"XS\", \"S\", \"M\", \"L\", \"XL\", \"XXL\"]</td>\n",
       "      <td>Royal Navy</td>\n",
       "    </tr>\n",
       "  </tbody>\n",
       "</table>\n",
       "</div>"
      ],
      "text/plain": [
       "                       product_name        mrp      price  \\\n",
       "0  Aerie Everyday Loves Lace Cheeky  12.50 USD  12.50 USD   \n",
       "1  Aerie Everyday Loves Lace Cheeky  12.50 USD  12.50 USD   \n",
       "2  Aerie Everyday Loves Lace Cheeky  12.50 USD  12.50 USD   \n",
       "3  Aerie Everyday Loves Lace Cheeky  12.50 USD  12.50 USD   \n",
       "4  Aerie Everyday Loves Lace Cheeky  12.50 USD  12.50 USD   \n",
       "\n",
       "                                             pdp_url brand_name  \\\n",
       "0  https://www.ae.com/aerie-everyday-loves-lace-c...      AERIE   \n",
       "1  https://www.ae.com/aerie-everyday-loves-lace-c...      AERIE   \n",
       "2  https://www.ae.com/aerie-everyday-loves-lace-c...      AERIE   \n",
       "3  https://www.ae.com/aerie-everyday-loves-lace-c...      AERIE   \n",
       "4  https://www.ae.com/aerie-everyday-loves-lace-c...      AERIE   \n",
       "\n",
       "  product_category retailer  \\\n",
       "0         Cheekies    Ae US   \n",
       "1         Cheekies    Ae US   \n",
       "2         Cheekies    Ae US   \n",
       "3         Cheekies    Ae US   \n",
       "4         Cheekies    Ae US   \n",
       "\n",
       "                                         description  rating  review_count  \\\n",
       "0  Introducing Everyday Loves™: Made with love. E...     5.0           8.0   \n",
       "1  Introducing Everyday Loves™: Made with love. E...     5.0           8.0   \n",
       "2  Introducing Everyday Loves™: Made with love. E...     5.0           8.0   \n",
       "3  Introducing Everyday Loves™: Made with love. E...     5.0           8.0   \n",
       "4  Introducing Everyday Loves™: Made with love. E...     5.0           8.0   \n",
       "\n",
       "                                    style_attributes  \\\n",
       "0  [\"Soft lace with the right amount of stretch\",...   \n",
       "1  [\"Soft lace with the right amount of stretch\",...   \n",
       "2  [\"Soft lace with the right amount of stretch\",...   \n",
       "3  [\"Soft lace with the right amount of stretch\",...   \n",
       "4  [\"Soft lace with the right amount of stretch\",...   \n",
       "\n",
       "                          total_sizes                      available_size  \\\n",
       "0  [\"XS\", \"S\", \"M\", \"L\", \"XL\", \"XXL\"]  [\"XS\", \"S\", \"M\", \"L\", \"XL\", \"XXL\"]   \n",
       "1  [\"XS\", \"S\", \"M\", \"L\", \"XL\", \"XXL\"]  [\"XS\", \"S\", \"M\", \"L\", \"XL\", \"XXL\"]   \n",
       "2  [\"XS\", \"S\", \"M\", \"L\", \"XL\", \"XXL\"]  [\"XS\", \"S\", \"M\", \"L\", \"XL\", \"XXL\"]   \n",
       "3  [\"XS\", \"S\", \"M\", \"L\", \"XL\", \"XXL\"]  [\"XS\", \"S\", \"M\", \"L\", \"XL\", \"XXL\"]   \n",
       "4  [\"XS\", \"S\", \"M\", \"L\", \"XL\", \"XXL\"]  [\"XS\", \"S\", \"M\", \"L\", \"XL\", \"XXL\"]   \n",
       "\n",
       "          color  \n",
       "0  Rugged Green  \n",
       "1  Natural Nude  \n",
       "2    True Black  \n",
       "3         White  \n",
       "4    Royal Navy  "
      ]
     },
     "execution_count": 6,
     "metadata": {},
     "output_type": "execute_result"
    }
   ],
   "source": [
    "df.head()"
   ]
  },
  {
   "cell_type": "code",
   "execution_count": 9,
   "id": "64dca94b",
   "metadata": {},
   "outputs": [
    {
     "data": {
      "text/plain": [
       "Index(['product_name', 'mrp', 'price', 'pdp_url', 'brand_name',\n",
       "       'product_category', 'retailer', 'description', 'rating', 'review_count',\n",
       "       'style_attributes', 'total_sizes', 'available_size', 'color'],\n",
       "      dtype='object')"
      ]
     },
     "execution_count": 9,
     "metadata": {},
     "output_type": "execute_result"
    }
   ],
   "source": [
    "df.columns"
   ]
  },
  {
   "cell_type": "code",
   "execution_count": 11,
   "id": "3fd1ed8a",
   "metadata": {},
   "outputs": [
    {
     "data": {
      "text/plain": [
       "product_name         object\n",
       "mrp                  object\n",
       "price                object\n",
       "pdp_url              object\n",
       "brand_name           object\n",
       "product_category     object\n",
       "retailer             object\n",
       "description          object\n",
       "rating              float64\n",
       "review_count        float64\n",
       "style_attributes     object\n",
       "total_sizes          object\n",
       "available_size       object\n",
       "color                object\n",
       "dtype: object"
      ]
     },
     "execution_count": 11,
     "metadata": {},
     "output_type": "execute_result"
    }
   ],
   "source": [
    "df.dtypes"
   ]
  },
  {
   "cell_type": "code",
   "execution_count": 13,
   "id": "70d54888",
   "metadata": {},
   "outputs": [
    {
     "data": {
      "text/plain": [
       "product_name             0\n",
       "mrp                      0\n",
       "price                    0\n",
       "pdp_url                  0\n",
       "brand_name               0\n",
       "product_category         0\n",
       "retailer                 0\n",
       "description              0\n",
       "rating              379587\n",
       "review_count        391113\n",
       "style_attributes    456468\n",
       "total_sizes              0\n",
       "available_size           0\n",
       "color                  677\n",
       "dtype: int64"
      ]
     },
     "execution_count": 13,
     "metadata": {},
     "output_type": "execute_result"
    }
   ],
   "source": [
    "df.isnull().sum()"
   ]
  },
  {
   "cell_type": "code",
   "execution_count": 5,
   "id": "fe397ee7",
   "metadata": {},
   "outputs": [
    {
     "name": "stdout",
     "output_type": "stream",
     "text": [
      "<class 'pandas.core.frame.DataFrame'>\n",
      "RangeIndex: 613143 entries, 0 to 613142\n",
      "Data columns (total 14 columns):\n",
      "product_name        613143 non-null object\n",
      "mrp                 613143 non-null object\n",
      "price               613143 non-null object\n",
      "pdp_url             613143 non-null object\n",
      "brand_name          613143 non-null object\n",
      "product_category    613143 non-null object\n",
      "retailer            613143 non-null object\n",
      "description         613143 non-null object\n",
      "rating              233556 non-null float64\n",
      "review_count        222030 non-null float64\n",
      "style_attributes    156675 non-null object\n",
      "total_sizes         613143 non-null object\n",
      "available_size      613143 non-null object\n",
      "color               612466 non-null object\n",
      "dtypes: float64(2), object(12)\n",
      "memory usage: 65.5+ MB\n"
     ]
    }
   ],
   "source": [
    "df.info()"
   ]
  },
  {
   "cell_type": "code",
   "execution_count": 14,
   "id": "31c098eb",
   "metadata": {},
   "outputs": [
    {
     "data": {
      "text/plain": [
       "array([[0, 0, 0, 0, 0, 0, 0, 0, 1, 0, 0, 0, 0, 0],\n",
       "       [0, 0, 0, 0, 1, 0, 0, 0, 0, 0, 0, 0, 0, 0],\n",
       "       [0, 0, 0, 0, 0, 0, 1, 0, 0, 0, 0, 0, 0, 0],\n",
       "       [0, 0, 0, 0, 0, 1, 0, 0, 0, 0, 0, 0, 0, 0],\n",
       "       [0, 1, 0, 0, 0, 0, 0, 0, 0, 0, 0, 0, 0, 0],\n",
       "       [0, 0, 0, 0, 0, 0, 0, 1, 0, 0, 0, 0, 0, 0],\n",
       "       [0, 0, 0, 0, 0, 0, 0, 0, 0, 0, 1, 0, 0, 0],\n",
       "       [0, 0, 0, 1, 0, 0, 0, 0, 0, 0, 0, 0, 0, 0],\n",
       "       [0, 0, 0, 0, 0, 0, 0, 0, 0, 1, 0, 0, 0, 0],\n",
       "       [0, 0, 0, 0, 0, 0, 0, 0, 0, 0, 0, 1, 0, 0],\n",
       "       [0, 0, 0, 0, 0, 0, 0, 0, 0, 0, 0, 0, 1, 0],\n",
       "       [0, 0, 0, 0, 0, 0, 0, 0, 0, 0, 0, 0, 0, 1],\n",
       "       [1, 0, 0, 0, 0, 0, 0, 0, 0, 0, 0, 0, 0, 0],\n",
       "       [0, 0, 1, 0, 0, 0, 0, 0, 0, 0, 0, 0, 0, 0]])"
      ]
     },
     "execution_count": 14,
     "metadata": {},
     "output_type": "execute_result"
    }
   ],
   "source": [
    "bow = CountVectorizer(ngram_range=(1, 1))\n",
    "features = bow.fit_transform(df)\n",
    "features.toarray()"
   ]
  },
  {
   "cell_type": "code",
   "execution_count": 18,
   "id": "1cd8f8ce",
   "metadata": {},
   "outputs": [
    {
     "data": {
      "text/html": [
       "<div>\n",
       "<style scoped>\n",
       "    .dataframe tbody tr th:only-of-type {\n",
       "        vertical-align: middle;\n",
       "    }\n",
       "\n",
       "    .dataframe tbody tr th {\n",
       "        vertical-align: top;\n",
       "    }\n",
       "\n",
       "    .dataframe thead th {\n",
       "        text-align: right;\n",
       "    }\n",
       "</style>\n",
       "<table border=\"1\" class=\"dataframe\">\n",
       "  <thead>\n",
       "    <tr style=\"text-align: right;\">\n",
       "      <th></th>\n",
       "      <th>rating</th>\n",
       "      <th>review_count</th>\n",
       "    </tr>\n",
       "  </thead>\n",
       "  <tbody>\n",
       "    <tr>\n",
       "      <th>count</th>\n",
       "      <td>233556.000000</td>\n",
       "      <td>2.220300e+05</td>\n",
       "    </tr>\n",
       "    <tr>\n",
       "      <th>mean</th>\n",
       "      <td>4.254360</td>\n",
       "      <td>5.708913e+35</td>\n",
       "    </tr>\n",
       "    <tr>\n",
       "      <th>std</th>\n",
       "      <td>0.527576</td>\n",
       "      <td>9.170288e+36</td>\n",
       "    </tr>\n",
       "    <tr>\n",
       "      <th>min</th>\n",
       "      <td>0.000000</td>\n",
       "      <td>1.000000e+00</td>\n",
       "    </tr>\n",
       "    <tr>\n",
       "      <th>25%</th>\n",
       "      <td>4.000000</td>\n",
       "      <td>1.600000e+01</td>\n",
       "    </tr>\n",
       "    <tr>\n",
       "      <th>50%</th>\n",
       "      <td>4.300000</td>\n",
       "      <td>9.700000e+01</td>\n",
       "    </tr>\n",
       "    <tr>\n",
       "      <th>75%</th>\n",
       "      <td>4.500000</td>\n",
       "      <td>3.860000e+02</td>\n",
       "    </tr>\n",
       "    <tr>\n",
       "      <th>max</th>\n",
       "      <td>5.000000</td>\n",
       "      <td>1.560000e+38</td>\n",
       "    </tr>\n",
       "  </tbody>\n",
       "</table>\n",
       "</div>"
      ],
      "text/plain": [
       "              rating  review_count\n",
       "count  233556.000000  2.220300e+05\n",
       "mean        4.254360  5.708913e+35\n",
       "std         0.527576  9.170288e+36\n",
       "min         0.000000  1.000000e+00\n",
       "25%         4.000000  1.600000e+01\n",
       "50%         4.300000  9.700000e+01\n",
       "75%         4.500000  3.860000e+02\n",
       "max         5.000000  1.560000e+38"
      ]
     },
     "execution_count": 18,
     "metadata": {},
     "output_type": "execute_result"
    }
   ],
   "source": [
    "df.describe()"
   ]
  },
  {
   "cell_type": "code",
   "execution_count": 54,
   "id": "07a1cbf4",
   "metadata": {},
   "outputs": [
    {
     "data": {
      "text/plain": [
       "Victoria's Secret         342533\n",
       "Victoria's Secret Pink    110853\n",
       "HankyPanky                 35005\n",
       "Wacoal                     28978\n",
       "AERIE                      28304\n",
       "Calvin Klein               18892\n",
       "Hanky Panky                 8133\n",
       "Calvin-Klein                7372\n",
       "WACOAL                      6580\n",
       "b.tempt'd by Wacoal         5241\n",
       "Name: brand_name, dtype: int64"
      ]
     },
     "execution_count": 54,
     "metadata": {},
     "output_type": "execute_result"
    }
   ],
   "source": [
    "df['brand_name'].value_counts().head(10)"
   ]
  },
  {
   "cell_type": "code",
   "execution_count": 59,
   "id": "e5856db8",
   "metadata": {},
   "outputs": [
    {
     "data": {
      "image/png": "[encoded data removed]",
      "text/plain": [
       "<Figure size 1080x360 with 1 Axes>"
      ]
     },
     "metadata": {
      "needs_background": "light"
     },
     "output_type": "display_data"
    }
   ],
   "source": [
    "fig,ax = plt.subplots(figsize=(15,5))\n",
    "ax = sns.countplot(df['brand_name'].value_counts().head(10))\n",
    "plt.show()"
   ]
  },
  {
   "cell_type": "markdown",
   "id": "f4006922",
   "metadata": {},
   "source": [
    "___Colores mas usados en la ropa interior por las diferentes marcas___"
   ]
  },
  {
   "cell_type": "code",
   "execution_count": 46,
   "id": "7c68b1f4",
   "metadata": {},
   "outputs": [
    {
     "name": "stdout",
     "output_type": "stream",
     "text": [
      "Black              36959\n",
      "White              18094\n",
      "black              13134\n",
      "pure black          7101\n",
      "Ensign              6738\n",
      "Almost Nude         6271\n",
      "bayberry            5441\n",
      "Hello Lovely        5159\n",
      "Sheer Pink          4985\n",
      "Radiating Aztec     4862\n",
      "Name: color, dtype: int64\n"
     ]
    }
   ],
   "source": [
    "cc = df['color'].value_counts().head(10)\n",
    "print(cc)"
   ]
  },
  {
   "cell_type": "code",
   "execution_count": 67,
   "id": "54a301ef",
   "metadata": {},
   "outputs": [
    {
     "data": {
      "image/png": "[encoded data removed]",
      "text/plain": [
       "<Figure size 1080x360 with 1 Axes>"
      ]
     },
     "metadata": {
      "needs_background": "light"
     },
     "output_type": "display_data"
    }
   ],
   "source": [
    "fig,ax = plt.subplots(figsize=(15,5))\n",
    "ax = sns.countplot(cc)\n",
    "plt.show()"
   ]
  },
  {
   "cell_type": "code",
   "execution_count": 62,
   "id": "3cf82e97",
   "metadata": {},
   "outputs": [
    {
     "data": {
      "text/plain": [
       "<matplotlib.axes._subplots.AxesSubplot at 0x7f717b02f2e0>"
      ]
     },
     "execution_count": 62,
     "metadata": {},
     "output_type": "execute_result"
    },
    {
     "data": {
      "image/png": "[encoded data removed]",
      "text/plain": [
       "<Figure size 720x504 with 2 Axes>"
      ]
     },
     "metadata": {
      "needs_background": "light"
     },
     "output_type": "display_data"
    }
   ],
   "source": [
    "f, ax = plt.subplots(figsize=(10, 7))\n",
    "mc=df.corr()\n",
    "sns.heatmap(mc,annot=True,linewidths=.5, ax=ax)"
   ]
  },
  {
   "cell_type": "code",
   "execution_count": null,
   "id": "d6928d67",
   "metadata": {},
   "outputs": [],
   "source": [
    "df['price'] = df['price'].replace({\"$\":''}, regex=True)\n",
    "df"
   ]
  }
 ],
 "metadata": {
  "kernelspec": {
   "display_name": "Python 3",
   "language": "python",
   "name": "python3"
  },
  "language_info": {
   "codemirror_mode": {
    "name": "ipython",
    "version": 3
   },
   "file_extension": ".py",
   "mimetype": "text/x-python",
   "name": "python",
   "nbconvert_exporter": "python",
   "pygments_lexer": "ipython3",
   "version": "3.8.10"
  }
 },
 "nbformat": 4,
 "nbformat_minor": 5
}
